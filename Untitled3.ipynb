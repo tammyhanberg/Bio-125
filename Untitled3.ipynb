{
  "nbformat": 4,
  "nbformat_minor": 0,
  "metadata": {
    "colab": {
      "provenance": [],
      "toc_visible": true,
      "authorship_tag": "ABX9TyMFpOt2B51EBlvKoyc22cot",
      "include_colab_link": true
    },
    "kernelspec": {
      "name": "python3",
      "display_name": "Python 3"
    },
    "language_info": {
      "name": "python"
    }
  },
  "cells": [
    {
      "cell_type": "markdown",
      "metadata": {
        "id": "view-in-github",
        "colab_type": "text"
      },
      "source": [
        "<a href=\"https://colab.research.google.com/github/tammyhanberg/Bio-125/blob/main/Untitled3.ipynb\" target=\"_parent\"><img src=\"https://colab.research.google.com/assets/colab-badge.svg\" alt=\"Open In Colab\"/></a>"
      ]
    },
    {
      "cell_type": "code",
      "execution_count": 1,
      "metadata": {
        "id": "2uSQUCLaLL-o"
      },
      "outputs": [],
      "source": [
        "# import packages\n",
        "import statistics\n",
        "import pandas as pd\n",
        "import scipy.stats as stats\n",
        "from scipy.stats import sem\n",
        "from statistics import mean, stdev\n",
        "import matplotlib.pyplot as plt\n",
        "import numpy as np\n",
        "#include if using a jupyter notebook, remove if using a .py file\n",
        "%matplotlib inline\n"
      ]
    },
    {
      "cell_type": "code",
      "source": [
        "\n",
        "f_vc=[2.7,3.7,3.2,3.45,3.2,3.1]\n",
        "m_vc=[3.3,4.5,3.7]\n",
        "f_vc, m_vc"
      ],
      "metadata": {
        "colab": {
          "base_uri": "https://localhost:8080/"
        },
        "id": "6zD9j0NYLv2B",
        "outputId": "628b2275-201a-4fbc-a0f6-0daaffb9b278"
      },
      "execution_count": 15,
      "outputs": [
        {
          "output_type": "execute_result",
          "data": {
            "text/plain": [
              "([2.7, 3.7, 3.2, 3.45, 3.2, 3.1], [3.3, 4.5, 3.7])"
            ]
          },
          "metadata": {},
          "execution_count": 15
        }
      ]
    },
    {
      "cell_type": "code",
      "source": [
        "fvc_sem = sem(f_vc)\n",
        "mvc_sem = sem(m_vc)\n",
        "fvc_sem, mvc_sem"
      ],
      "metadata": {
        "colab": {
          "base_uri": "https://localhost:8080/"
        },
        "id": "JEhsU4L3Niru",
        "outputId": "18902f5c-b79a-4317-f475-a32192e8b9fa"
      },
      "execution_count": 16,
      "outputs": [
        {
          "output_type": "execute_result",
          "data": {
            "text/plain": [
              "(0.13768926368215256, 0.3527668414752788)"
            ]
          },
          "metadata": {},
          "execution_count": 16
        }
      ]
    },
    {
      "cell_type": "code",
      "source": [
        "plt.bar(['Female VC', 'Male VC'], [fvc_mean,mvc_mean], yerr=[fvc_sem, mvc_sem], capsize=10)\n"
      ],
      "metadata": {
        "colab": {
          "base_uri": "https://localhost:8080/",
          "height": 448
        },
        "id": "XgL4Wj3bRWye",
        "outputId": "78fab014-eaea-4c0e-d0dc-b8babfef1835"
      },
      "execution_count": 18,
      "outputs": [
        {
          "output_type": "execute_result",
          "data": {
            "text/plain": [
              "<BarContainer object of 2 artists>"
            ]
          },
          "metadata": {},
          "execution_count": 18
        },
        {
          "output_type": "display_data",
          "data": {
            "text/plain": [
              "<Figure size 640x480 with 1 Axes>"
            ],
            "image/png": "[encoded data removed]"
          },
          "metadata": {}
        }
      ]
    },
    {
      "cell_type": "code",
      "source": [
        "from google.colab import drive\n",
        "drive.mount('/content/drive')"
      ],
      "metadata": {
        "id": "tNF4Iao2Syj2"
      },
      "execution_count": null,
      "outputs": []
    }
  ]
}